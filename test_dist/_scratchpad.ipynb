{
 "cells": [
  {
   "cell_type": "code",
   "execution_count": 1,
   "metadata": {},
   "outputs": [],
   "source": [
    "import DECAF"
   ]
  },
  {
   "cell_type": "code",
   "execution_count": null,
   "metadata": {},
   "outputs": [
    {
     "ename": "TypeError",
     "evalue": "'NoneType' object is not iterable",
     "output_type": "error",
     "traceback": [
      "\u001b[1;31m---------------------------------------------------------------------------\u001b[0m",
      "\u001b[1;31mTypeError\u001b[0m                                 Traceback (most recent call last)",
      "File \u001b[1;32mc:\\Users\\pbh634\\AppData\\Local\\Programs\\Python\\Python312\\Lib\\site-packages\\ComposeFunction.py:94\u001b[0m, in \u001b[0;36meval_functions_list\u001b[1;34m(input, stringlist)\u001b[0m\n\u001b[0;32m     93\u001b[0m \u001b[38;5;28;01mtry\u001b[39;00m:\n\u001b[1;32m---> 94\u001b[0m     \u001b[38;5;28;01mreturn\u001b[39;00m \u001b[43meval_functions\u001b[49m\u001b[43m(\u001b[49m\u001b[38;5;28;43minput\u001b[39;49m\u001b[43m,\u001b[49m\u001b[43m \u001b[49m\u001b[38;5;241;43m*\u001b[39;49m\u001b[43mfuncs\u001b[49m\u001b[43m)\u001b[49m\n\u001b[0;32m     95\u001b[0m \u001b[38;5;28;01mexcept\u001b[39;00m \u001b[38;5;167;01mTypeError\u001b[39;00m:\n",
      "File \u001b[1;32mc:\\Users\\pbh634\\AppData\\Local\\Programs\\Python\\Python312\\Lib\\site-packages\\ComposeFunction.py:14\u001b[0m, in \u001b[0;36meval_functions\u001b[1;34m(input, *functions)\u001b[0m\n\u001b[0;32m     13\u001b[0m functions \u001b[38;5;241m=\u001b[39m _compose_functions(\u001b[38;5;241m*\u001b[39mfunctions)\n\u001b[1;32m---> 14\u001b[0m \u001b[38;5;28;01mreturn\u001b[39;00m \u001b[43mfunctions\u001b[49m\u001b[43m(\u001b[49m\u001b[38;5;28;43minput\u001b[39;49m\u001b[43m)\u001b[49m\n",
      "File \u001b[1;32mc:\\Users\\pbh634\\AppData\\Local\\Programs\\Python\\Python312\\Lib\\site-packages\\ComposeFunction.py:7\u001b[0m, in \u001b[0;36m_compose_functions.<locals>.<lambda>\u001b[1;34m(x)\u001b[0m\n\u001b[0;32m      6\u001b[0m \u001b[38;5;28;01mdef\u001b[39;00m \u001b[38;5;21m_compose_functions\u001b[39m(\u001b[38;5;241m*\u001b[39mfunctions):\n\u001b[1;32m----> 7\u001b[0m     \u001b[38;5;28;01mreturn\u001b[39;00m functools\u001b[38;5;241m.\u001b[39mreduce(\u001b[38;5;28;01mlambda\u001b[39;00m f, g: \u001b[38;5;28;01mlambda\u001b[39;00m x: g(\u001b[43mf\u001b[49m\u001b[43m(\u001b[49m\u001b[43mx\u001b[49m\u001b[43m)\u001b[49m), functions)\n",
      "File \u001b[1;32mc:\\Users\\pbh634\\AppData\\Local\\Programs\\Python\\Python312\\Lib\\site-packages\\ConfigReader.py:24\u001b[0m, in \u001b[0;36mread_config\u001b[1;34m(config_file)\u001b[0m\n\u001b[0;32m     23\u001b[0m cp \u001b[38;5;241m=\u001b[39m ConfigParser(inline_comment_prefixes\u001b[38;5;241m=\u001b[39m\u001b[38;5;124m\"\u001b[39m\u001b[38;5;124m;\u001b[39m\u001b[38;5;124m\"\u001b[39m)\n\u001b[1;32m---> 24\u001b[0m path \u001b[38;5;241m=\u001b[39m \u001b[43m_build_path\u001b[49m\u001b[43m(\u001b[49m\u001b[43mconfig_file\u001b[49m\u001b[43m)\u001b[49m\n\u001b[0;32m     25\u001b[0m cp\u001b[38;5;241m.\u001b[39mread(path)\n",
      "File \u001b[1;32mc:\\Users\\pbh634\\AppData\\Local\\Programs\\Python\\Python312\\Lib\\site-packages\\ConfigReader.py:13\u001b[0m, in \u001b[0;36m_build_path\u001b[1;34m(filepath)\u001b[0m\n\u001b[0;32m     12\u001b[0m \u001b[38;5;28;01mdef\u001b[39;00m \u001b[38;5;21m_build_path\u001b[39m(filepath):\n\u001b[1;32m---> 13\u001b[0m     \u001b[38;5;28;01mif\u001b[39;00m \u001b[43m_file_exists\u001b[49m\u001b[43m(\u001b[49m\u001b[43mfilepath\u001b[49m\u001b[43m)\u001b[49m:\n\u001b[0;32m     14\u001b[0m         \u001b[38;5;28;01mreturn\u001b[39;00m \u001b[38;5;28mstr\u001b[39m(Path(filepath)\u001b[38;5;241m.\u001b[39mresolve()\u001b[38;5;241m.\u001b[39mas_posix())\n",
      "File \u001b[1;32mc:\\Users\\pbh634\\AppData\\Local\\Programs\\Python\\Python312\\Lib\\site-packages\\ConfigReader.py:8\u001b[0m, in \u001b[0;36m_file_exists\u001b[1;34m(filepath)\u001b[0m\n\u001b[0;32m      7\u001b[0m \u001b[38;5;28;01mdef\u001b[39;00m \u001b[38;5;21m_file_exists\u001b[39m(filepath):\n\u001b[1;32m----> 8\u001b[0m     \u001b[38;5;28;01mreturn\u001b[39;00m \u001b[43mos\u001b[49m\u001b[38;5;241;43m.\u001b[39;49m\u001b[43mpath\u001b[49m\u001b[38;5;241;43m.\u001b[39;49m\u001b[43misfile\u001b[49m\u001b[43m(\u001b[49m\u001b[43mfilepath\u001b[49m\u001b[43m)\u001b[49m\n",
      "\u001b[1;31mTypeError\u001b[0m: _path_isfile: path should be string, bytes, os.PathLike or integer, not NoneType",
      "\nDuring handling of the above exception, another exception occurred:\n",
      "\u001b[1;31mTypeError\u001b[0m                                 Traceback (most recent call last)",
      "Cell \u001b[1;32mIn[3], line 1\u001b[0m\n\u001b[1;32m----> 1\u001b[0m \u001b[43mDECAF\u001b[49m\u001b[38;5;241;43m.\u001b[39;49m\u001b[43mfuzzy_match_companies\u001b[49m\u001b[43m(\u001b[49m\u001b[43minput_file\u001b[49m\u001b[43m,\u001b[49m\u001b[43m \u001b[49m\u001b[43mcol1\u001b[49m\u001b[43m,\u001b[49m\u001b[43m \u001b[49m\u001b[43mcol2\u001b[49m\u001b[43m)\u001b[49m\n",
      "File \u001b[1;32mc:\\Users\\pbh634\\AppData\\Local\\Programs\\Python\\Python312\\Lib\\site-packages\\DECAF.py:18\u001b[0m, in \u001b[0;36mfuzzy_match_companies\u001b[1;34m(input_file, col1, col2, output_file, ini_file)\u001b[0m\n\u001b[0;32m     16\u001b[0m \u001b[38;5;66;03m# Setup - read\u001b[39;00m\n\u001b[0;32m     17\u001b[0m config \u001b[38;5;241m=\u001b[39m cr\u001b[38;5;241m.\u001b[39mread_config(ini_file)\n\u001b[1;32m---> 18\u001b[0m all_fns \u001b[38;5;241m=\u001b[39m \u001b[43mdio\u001b[49m\u001b[38;5;241;43m.\u001b[39;49m\u001b[43mread_functions_from_ini\u001b[49m\u001b[43m(\u001b[49m\u001b[43mini_file\u001b[49m\u001b[43m)\u001b[49m\n\u001b[0;32m     19\u001b[0m \u001b[38;5;66;03m# Setup - ini params\u001b[39;00m\n\u001b[0;32m     20\u001b[0m fns_proc \u001b[38;5;241m=\u001b[39m all_fns[\u001b[38;5;124m\"\u001b[39m\u001b[38;5;124mfunctions\u001b[39m\u001b[38;5;124m\"\u001b[39m]\n",
      "File \u001b[1;32mc:\\Users\\pbh634\\AppData\\Local\\Programs\\Python\\Python312\\Lib\\site-packages\\DatafileIO.py:87\u001b[0m, in \u001b[0;36mread_functions_from_ini\u001b[1;34m(ini_path)\u001b[0m\n\u001b[0;32m     85\u001b[0m \u001b[38;5;28;01mdef\u001b[39;00m \u001b[38;5;21mread_functions_from_ini\u001b[39m(ini_path):\n\u001b[0;32m     86\u001b[0m     fns \u001b[38;5;241m=\u001b[39m _fns_from_ini(ini_path)\n\u001b[1;32m---> 87\u001b[0m     cln \u001b[38;5;241m=\u001b[39m \u001b[43m_cleaning_from_ini\u001b[49m\u001b[43m(\u001b[49m\u001b[43mini_path\u001b[49m\u001b[43m)\u001b[49m\n\u001b[0;32m     88\u001b[0m     \u001b[38;5;28;01mreturn\u001b[39;00m {\u001b[38;5;124m\"\u001b[39m\u001b[38;5;124mfunctions\u001b[39m\u001b[38;5;124m\"\u001b[39m: fns, \u001b[38;5;124m\"\u001b[39m\u001b[38;5;124mcleaning\u001b[39m\u001b[38;5;124m\"\u001b[39m: cln}\n",
      "File \u001b[1;32mc:\\Users\\pbh634\\AppData\\Local\\Programs\\Python\\Python312\\Lib\\site-packages\\DatafileIO.py:82\u001b[0m, in \u001b[0;36m_cleaning_from_ini\u001b[1;34m(ini_path)\u001b[0m\n\u001b[0;32m     77\u001b[0m clean_path \u001b[38;5;241m=\u001b[39m cf\u001b[38;5;241m.\u001b[39meval_functions_list(ini_path, path_fns)\n\u001b[0;32m     78\u001b[0m fns \u001b[38;5;241m=\u001b[39m [\n\u001b[0;32m     79\u001b[0m     \u001b[38;5;124m\"\u001b[39m\u001b[38;5;124mConfigReader.read_config\u001b[39m\u001b[38;5;124m\"\u001b[39m,\n\u001b[0;32m     80\u001b[0m     \u001b[38;5;124m\"\u001b[39m\u001b[38;5;124mConfigReader.parse_functions\u001b[39m\u001b[38;5;124m\"\u001b[39m,\n\u001b[0;32m     81\u001b[0m ]\n\u001b[1;32m---> 82\u001b[0m \u001b[38;5;28;01mreturn\u001b[39;00m \u001b[43mcf\u001b[49m\u001b[38;5;241;43m.\u001b[39;49m\u001b[43meval_functions_list\u001b[49m\u001b[43m(\u001b[49m\u001b[43mclean_path\u001b[49m\u001b[43m,\u001b[49m\u001b[43m \u001b[49m\u001b[43mfns\u001b[49m\u001b[43m)\u001b[49m\n",
      "File \u001b[1;32mc:\\Users\\pbh634\\AppData\\Local\\Programs\\Python\\Python312\\Lib\\site-packages\\ComposeFunction.py:97\u001b[0m, in \u001b[0;36meval_functions_list\u001b[1;34m(input, stringlist)\u001b[0m\n\u001b[0;32m     95\u001b[0m \u001b[38;5;28;01mexcept\u001b[39;00m \u001b[38;5;167;01mTypeError\u001b[39;00m:\n\u001b[0;32m     96\u001b[0m     out \u001b[38;5;241m=\u001b[39m \u001b[38;5;28mlist\u001b[39m()\n\u001b[1;32m---> 97\u001b[0m \u001b[43m    \u001b[49m\u001b[38;5;28;43;01mfor\u001b[39;49;00m\u001b[43m \u001b[49m\u001b[43mi\u001b[49m\u001b[43m \u001b[49m\u001b[38;5;129;43;01min\u001b[39;49;00m\u001b[43m \u001b[49m\u001b[38;5;28;43minput\u001b[39;49m\u001b[43m:\u001b[49m\n\u001b[0;32m     98\u001b[0m \u001b[43m        \u001b[49m\u001b[43mout\u001b[49m\u001b[38;5;241;43m.\u001b[39;49m\u001b[43mappend\u001b[49m\u001b[43m(\u001b[49m\u001b[43meval_functions\u001b[49m\u001b[43m(\u001b[49m\u001b[43mi\u001b[49m\u001b[43m,\u001b[49m\u001b[43m \u001b[49m\u001b[38;5;241;43m*\u001b[39;49m\u001b[43mfuncs\u001b[49m\u001b[43m)\u001b[49m\u001b[43m)\u001b[49m\n\u001b[0;32m     99\u001b[0m     \u001b[38;5;28;01mreturn\u001b[39;00m out\n",
      "\u001b[1;31mTypeError\u001b[0m: 'NoneType' object is not iterable"
     ]
    }
   ],
   "source": [
    "input_file = \"data/fuzzy_match_companies.xlsx\"\n",
    "col1=\"reference_name\"\n",
    "col2=\"new_name\"\n",
    "\n",
    "DECAF.fuzzy_match_companies(input_file, col1, col2)"
   ]
  }
 ],
 "metadata": {
  "kernelspec": {
   "display_name": "Python 3",
   "language": "python",
   "name": "python3"
  },
  "language_info": {
   "codemirror_mode": {
    "name": "ipython",
    "version": 3
   },
   "file_extension": ".py",
   "mimetype": "text/x-python",
   "name": "python",
   "nbconvert_exporter": "python",
   "pygments_lexer": "ipython3",
   "version": "3.12.6"
  }
 },
 "nbformat": 4,
 "nbformat_minor": 2
}
