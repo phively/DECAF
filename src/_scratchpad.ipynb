{
 "cells": [
  {
   "cell_type": "code",
   "execution_count": 1,
   "metadata": {},
   "outputs": [
    {
     "name": "stdout",
     "output_type": "stream",
     "text": [
      "['print']\n"
     ]
    }
   ],
   "source": [
    "from DECAF import ConfigReader as cr\n",
    "\n",
    "c = cr.read_config(\"tests/config/processing/hello_world.ini\")\n",
    "f = cr.parse_functions(c)\n",
    "print(f)"
   ]
  },
  {
   "cell_type": "code",
   "execution_count": 2,
   "metadata": {},
   "outputs": [
    {
     "name": "stdout",
     "output_type": "stream",
     "text": [
      "c:\\Users\\Paul\\OneDrive\\Documents\\github\\DECAF\\src\\DECAF\\ConfigReader.py\n",
      "DECAF.ConfigReader\n",
      "WARNING: not found: config/cleaning/clean_company_name.ini\n"
     ]
    },
    {
     "data": {
      "text/plain": [
       "'C:/Users/Paul/OneDrive/Documents/github/DECAF/src/DECAF/config/cleaning/clean_company_name.ini'"
      ]
     },
     "execution_count": 2,
     "metadata": {},
     "output_type": "execute_result"
    }
   ],
   "source": [
    "from DECAF import ConfigReader as cr\n",
    "from pathlib import Path\n",
    "\n",
    "print(cr.__file__)\n",
    "print(cr.__name__)\n",
    "\n",
    "# Can go up a level to find config/ folder\n",
    "parent_path = Path(cr.__file__).parents[1]\n",
    "parent_path.absolute()\n",
    "\n",
    "config_path = \"config/cleaning/clean_company_name.ini\"\n",
    "\n",
    "print(cr._build_path(config_path))\n",
    "\n",
    "cr._build_path(\"DECAF/\" + config_path)"
   ]
  },
  {
   "cell_type": "code",
   "execution_count": 3,
   "metadata": {},
   "outputs": [
    {
     "name": "stdout",
     "output_type": "stream",
     "text": [
      "hello\n",
      "allcaps\n"
     ]
    }
   ],
   "source": [
    "from DECAF import ComposeFunction as cf\n",
    "\n",
    "print(cf.eval_functions_list(\" hello \", [\"DECAF.StringFormat.trim_whitespace\"]))\n",
    "print(cf.eval_functions_list(\" ALLCAPS \", [\"StringFormat.trim_whitespace\", \"StringFormat.to_lower\"]))"
   ]
  },
  {
   "cell_type": "code",
   "execution_count": 4,
   "metadata": {},
   "outputs": [],
   "source": [
    "from DECAF import DECAF as d\n",
    "\n",
    "input_file = \"tests/data/fuzzy_match_companies.xlsx\"\n",
    "col1=\"reference_name\"\n",
    "col2=\"new_name\"\n",
    "\n",
    "d.fuzzy_match_companies(input_file, col1, col2)"
   ]
  }
 ],
 "metadata": {
  "kernelspec": {
   "display_name": "Python 3",
   "language": "python",
   "name": "python3"
  },
  "language_info": {
   "codemirror_mode": {
    "name": "ipython",
    "version": 3
   },
   "file_extension": ".py",
   "mimetype": "text/x-python",
   "name": "python",
   "nbconvert_exporter": "python",
   "pygments_lexer": "ipython3",
   "version": "3.12.3"
  }
 },
 "nbformat": 4,
 "nbformat_minor": 2
}
