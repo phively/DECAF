{
 "cells": [
  {
   "cell_type": "code",
   "execution_count": 1,
   "metadata": {},
   "outputs": [],
   "source": [
    "import FuzzyMatch as fm\n",
    "import ConfigReader as cr\n",
    "import ComposeFunction as cf\n",
    "import pandas as pd\n",
    "import numpy as np\n",
    "\n",
    "path = \"tests/\"\n",
    "\n",
    "\n",
    "# Load data\n",
    "def load_match_data():\n",
    "    companies = pd.read_csv(path + \"data/fuzzy_match_companies.csv\")\n",
    "    return companies"
   ]
  },
  {
   "cell_type": "code",
   "execution_count": 2,
   "metadata": {},
   "outputs": [],
   "source": [
    "# Load data\n",
    "companies = load_match_data()\n",
    "config = cr.read_config(\"config/cleaning/clean_company_name.ini\")\n",
    "fns = cr.parse_functions(config)\n",
    "ref_name = cf.eval_functions_list(companies[\"reference_name\"], fns)\n",
    "new_name = cf.eval_functions_list(companies[\"new_name\"], fns)"
   ]
  },
  {
   "cell_type": "code",
   "execution_count": 4,
   "metadata": {},
   "outputs": [
    {
     "data": {
      "text/plain": [
       "['ballentine partners',\n",
       " 'huron capital partners',\n",
       " 'usi insurance svc',\n",
       " 'new heritage capital',\n",
       " 'aureus',\n",
       " 'marsh usa',\n",
       " 'madison capital',\n",
       " 'adams street partners',\n",
       " 'promus bank trust',\n",
       " 'huron consulting group',\n",
       " 'comprehensive capital partners',\n",
       " 'andrews banking',\n",
       " 'piper sandler',\n",
       " 'peabody partners',\n",
       " 'the mortgage office',\n",
       " 'john deere']"
      ]
     },
     "execution_count": 4,
     "metadata": {},
     "output_type": "execute_result"
    }
   ],
   "source": [
    "ref_name"
   ]
  },
  {
   "cell_type": "code",
   "execution_count": 7,
   "metadata": {},
   "outputs": [
    {
     "data": {
      "text/plain": [
       "'acme'"
      ]
     },
     "execution_count": 7,
     "metadata": {},
     "output_type": "execute_result"
    }
   ],
   "source": [
    "cf.eval_functions_list(\"Acme Corp £\", fns)"
   ]
  },
  {
   "cell_type": "code",
   "execution_count": 37,
   "metadata": {},
   "outputs": [
    {
     "data": {
      "text/plain": [
       "True"
      ]
     },
     "execution_count": 37,
     "metadata": {},
     "output_type": "execute_result"
    }
   ],
   "source": [
    "companies[\"result\"] = np.where(companies[\"scores\"] >= 80, \"match\", \"new\")\n",
    "companies[\"expected\"].to_list() == companies[\"result\"].to_list()"
   ]
  },
  {
   "cell_type": "code",
   "execution_count": 38,
   "metadata": {},
   "outputs": [
    {
     "name": "stdout",
     "output_type": "stream",
     "text": [
      "                    reference_name                        new_name expected  scores result\n",
      "0          Ballentine Partners LLC        Ballentine Partners, LLC    match     100  match\n",
      "1       Huron Capital Partners LLC                   Huron Capital    match      90  match\n",
      "2                USI Insurance Svc          Usi Insurance Services    match      87  match\n",
      "3        New Heritage Capital, LLC            New Heritage Capital    match     100  match\n",
      "4                           Aureus                  Aureus Capital    match      90  match\n",
      "5                  Marsh USA, Inc.                       Marsh Inc    match      90  match\n",
      "6              Madison Capital LLC         Madison Capital Funding    match      90  match\n",
      "7        Adams Street Partners LLC              Partners, Adams St    match      86  match\n",
      "8              Promus Bank & Trust              Promus Capital LLC      new      58    new\n",
      "9           Huron Consulting Group      Huron Capital Partners LLC      new      50    new\n",
      "10  Comprehensive Capital Partners  Cohesive Capital Planning L.P.      new      73    new\n",
      "11            Andrews Banking Corp     Andrews Advisory Group, LLC      new      61    new\n",
      "12             Piper Sandler & Co.                   Piper Jaffray      new      62    new\n",
      "13           Peabody Partners, LLC           Prospect Partners LLC      new      67    new\n",
      "14             The Mortgage Office               L.E.K. Consulting      new      30    new\n",
      "15                      John Deere                Caterpillar Inc.      new      19    new\n"
     ]
    }
   ],
   "source": [
    "print(companies)"
   ]
  }
 ],
 "metadata": {
  "kernelspec": {
   "display_name": "Python 3",
   "language": "python",
   "name": "python3"
  },
  "language_info": {
   "codemirror_mode": {
    "name": "ipython",
    "version": 3
   },
   "file_extension": ".py",
   "mimetype": "text/x-python",
   "name": "python",
   "nbconvert_exporter": "python",
   "pygments_lexer": "ipython3",
   "version": "3.12.3"
  }
 },
 "nbformat": 4,
 "nbformat_minor": 2
}
