{
 "cells": [
  {
   "cell_type": "code",
   "execution_count": 11,
   "metadata": {},
   "outputs": [],
   "source": [
    "import ComposeFunction\n",
    "import ConfigReader\n",
    "import FuzzyMatch\n",
    "import StringFormat"
   ]
  },
  {
   "cell_type": "code",
   "execution_count": 31,
   "metadata": {},
   "outputs": [],
   "source": [
    "import FuzzyMatch as fm\n",
    "import ComposeFunction as cf\n",
    "import pandas as pd\n",
    "import numpy as np\n",
    "\n",
    "path = \"tests/\"\n",
    "\n",
    "\n",
    "# Load data\n",
    "def load_match_data():\n",
    "    companies = pd.read_csv(path + \"data/fuzzy_match_companies.csv\")\n",
    "    return companies\n",
    "\n",
    "\n",
    "# Manually specified cleaning pipeline\n",
    "def company_cleaning_pipeline(dat_in):\n",
    "    fns = [\n",
    "        \"StringFormat.to_lower\",\n",
    "        \"StringFormat.trim_whitespace\",\n",
    "        \"StringFormat.strip_non_ascii\",\n",
    "        \"StringFormat.strip_punctuation\",\n",
    "        \"FuzzyMatch.remove_company_suffixes\",\n",
    "    ]\n",
    "    out = list()\n",
    "    if type(dat_in) is str:\n",
    "        return cf.eval_functions_list(dat_in, fns)\n",
    "    else:\n",
    "        for dat in dat_in:\n",
    "            out.append(cf.eval_functions_list(dat, fns))\n",
    "    return out"
   ]
  },
  {
   "cell_type": "code",
   "execution_count": 27,
   "metadata": {},
   "outputs": [
    {
     "name": "stdout",
     "output_type": "stream",
     "text": [
      "[100, 90, 87, 100, 90, 90, 90, 86, 58, 50, 73, 61, 62, 67, 30, 19]\n"
     ]
    }
   ],
   "source": [
    "# Load data\n",
    "companies = load_match_data()\n",
    "ref_name = company_cleaning_pipeline(companies[\"reference_name\"])\n",
    "new_name = company_cleaning_pipeline(companies[\"new_name\"])\n",
    "\n",
    "# Test output\n",
    "scores = fm.fuzzy_match_pairwise(ref_name, new_name)\n",
    "print(scores)"
   ]
  },
  {
   "cell_type": "code",
   "execution_count": 28,
   "metadata": {},
   "outputs": [
    {
     "name": "stdout",
     "output_type": "stream",
     "text": [
      "                    reference_name                        new_name expected  scores\n",
      "0          Ballentine Partners LLC        Ballentine Partners, LLC    match     100\n",
      "1       Huron Capital Partners LLC                   Huron Capital    match      90\n",
      "2                USI Insurance Svc          Usi Insurance Services    match      87\n",
      "3        New Heritage Capital, LLC            New Heritage Capital    match     100\n",
      "4                           Aureus                  Aureus Capital    match      90\n",
      "5                  Marsh USA, Inc.                       Marsh Inc    match      90\n",
      "6              Madison Capital LLC         Madison Capital Funding    match      90\n",
      "7        Adams Street Partners LLC              Partners, Adams St    match      86\n",
      "8              Promus Bank & Trust              Promus Capital LLC      new      58\n",
      "9           Huron Consulting Group      Huron Capital Partners LLC      new      50\n",
      "10  Comprehensive Capital Partners  Cohesive Capital Planning L.P.      new      73\n",
      "11            Andrews Banking Corp     Andrews Advisory Group, LLC      new      61\n",
      "12             Piper Sandler & Co.                   Piper Jaffray      new      62\n",
      "13           Peabody Partners, LLC           Prospect Partners LLC      new      67\n",
      "14             The Mortgage Office               L.E.K. Consulting      new      30\n",
      "15                      John Deere                Caterpillar Inc.      new      19\n"
     ]
    }
   ],
   "source": [
    "companies[\"scores\"] = scores\n",
    "pd.options.display.width = 160\n",
    "print(companies)"
   ]
  },
  {
   "cell_type": "code",
   "execution_count": 29,
   "metadata": {},
   "outputs": [
    {
     "data": {
      "text/plain": [
       "0      True\n",
       "1      True\n",
       "2      True\n",
       "3      True\n",
       "4      True\n",
       "5      True\n",
       "6      True\n",
       "7      True\n",
       "8     False\n",
       "9     False\n",
       "10    False\n",
       "11    False\n",
       "12    False\n",
       "13    False\n",
       "14    False\n",
       "15    False\n",
       "Name: scores, dtype: bool"
      ]
     },
     "execution_count": 29,
     "metadata": {},
     "output_type": "execute_result"
    }
   ],
   "source": [
    "companies[\"scores\"] >= 80 "
   ]
  },
  {
   "cell_type": "code",
   "execution_count": 35,
   "metadata": {},
   "outputs": [
    {
     "data": {
      "text/plain": [
       "False"
      ]
     },
     "execution_count": 35,
     "metadata": {},
     "output_type": "execute_result"
    }
   ],
   "source": [
    "companies[\"result\"] = np.where(companies[\"scores\"] >= 80, \"match\", \"new\")\n",
    "companies[\"expected\"].to_list() == companies[\"result\"].to_list()"
   ]
  }
 ],
 "metadata": {
  "kernelspec": {
   "display_name": "Python 3",
   "language": "python",
   "name": "python3"
  },
  "language_info": {
   "codemirror_mode": {
    "name": "ipython",
    "version": 3
   },
   "file_extension": ".py",
   "mimetype": "text/x-python",
   "name": "python",
   "nbconvert_exporter": "python",
   "pygments_lexer": "ipython3",
   "version": "3.12.3"
  }
 },
 "nbformat": 4,
 "nbformat_minor": 2
}
