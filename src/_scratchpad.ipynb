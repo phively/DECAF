{
 "cells": [
  {
   "cell_type": "code",
   "execution_count": 8,
   "metadata": {},
   "outputs": [
    {
     "name": "stdout",
     "output_type": "stream",
     "text": [
      "['print']\n"
     ]
    }
   ],
   "source": [
    "from DECAF import ConfigReader\n",
    "\n",
    "c = ConfigReader.read_config(\"tests/config/processing/hello_world.ini\")\n",
    "f = ConfigReader.parse_functions(c)\n",
    "print(f)"
   ]
  },
  {
   "cell_type": "code",
   "execution_count": 7,
   "metadata": {},
   "outputs": [
    {
     "data": {
      "text/plain": [
       "{'functions': ['FuzzyMatch.fuzzy_match_pairwise',\n",
       "  'FuzzyMatch.score_threshold'],\n",
       " 'cleaning': ['StringFormat.to_lower',\n",
       "  'StringFormat.trim_whitespace',\n",
       "  'StringFormat.strip_non_ascii',\n",
       "  'StringFormat.strip_punctuation',\n",
       "  'FuzzyMatch.remove_company_suffixes']}"
      ]
     },
     "execution_count": 7,
     "metadata": {},
     "output_type": "execute_result"
    }
   ],
   "source": [
    "from DECAF import DatafileIO as dio\n",
    "\n",
    "dio.read_functions_from_ini(\"tests/config/processing/fuzzy_match_company.ini\")"
   ]
  },
  {
   "cell_type": "code",
   "execution_count": 11,
   "metadata": {},
   "outputs": [
    {
     "name": "stdout",
     "output_type": "stream",
     "text": [
      "hello\n",
      "allcaps\n"
     ]
    }
   ],
   "source": [
    "from DECAF import ComposeFunction as cf\n",
    "\n",
    "print(cf.eval_functions_list(\" hello \", [\"DECAF.StringFormat.trim_whitespace\"]))\n",
    "print(cf.eval_functions_list(\" ALLCAPS \", [\"StringFormat.trim_whitespace\", \"StringFormat.to_lower\"]))"
   ]
  },
  {
   "cell_type": "code",
   "execution_count": 5,
   "metadata": {},
   "outputs": [],
   "source": [
    "from DECAF import DECAF as d\n",
    "\n",
    "input_file = \"tests/data/fuzzy_match_companies.xlsx\"\n",
    "col1=\"reference_name\"\n",
    "col2=\"new_name\"\n",
    "\n",
    "d.fuzzy_match_companies(input_file, col1, col2)"
   ]
  }
 ],
 "metadata": {
  "kernelspec": {
   "display_name": "Python 3",
   "language": "python",
   "name": "python3"
  },
  "language_info": {
   "codemirror_mode": {
    "name": "ipython",
    "version": 3
   },
   "file_extension": ".py",
   "mimetype": "text/x-python",
   "name": "python",
   "nbconvert_exporter": "python",
   "pygments_lexer": "ipython3",
   "version": "3.12.3"
  }
 },
 "nbformat": 4,
 "nbformat_minor": 2
}
