{
 "cells": [
  {
   "cell_type": "code",
   "execution_count": 1,
   "metadata": {},
   "outputs": [],
   "source": [
    "import pandas as pd\n",
    "import FuzzyMatch as fm\n",
    "import DatafileIO as dio\n",
    "import ComposeFunction as cf\n",
    "import ConfigReader as cr\n",
    "from configparser import ConfigParser"
   ]
  },
  {
   "cell_type": "code",
   "execution_count": 2,
   "metadata": {},
   "outputs": [
    {
     "data": {
      "text/html": [
       "<div>\n",
       "<style scoped>\n",
       "    .dataframe tbody tr th:only-of-type {\n",
       "        vertical-align: middle;\n",
       "    }\n",
       "\n",
       "    .dataframe tbody tr th {\n",
       "        vertical-align: top;\n",
       "    }\n",
       "\n",
       "    .dataframe thead th {\n",
       "        text-align: right;\n",
       "    }\n",
       "</style>\n",
       "<table border=\"1\" class=\"dataframe\">\n",
       "  <thead>\n",
       "    <tr style=\"text-align: right;\">\n",
       "      <th></th>\n",
       "      <th>reference_name</th>\n",
       "      <th>new_name</th>\n",
       "      <th>expected</th>\n",
       "    </tr>\n",
       "  </thead>\n",
       "  <tbody>\n",
       "    <tr>\n",
       "      <th>0</th>\n",
       "      <td>Ballentine Partners LLC</td>\n",
       "      <td>Ballentine Partners, LLC</td>\n",
       "      <td>match</td>\n",
       "    </tr>\n",
       "    <tr>\n",
       "      <th>1</th>\n",
       "      <td>Huron Capital Partners LLC</td>\n",
       "      <td>Huron Capital</td>\n",
       "      <td>match</td>\n",
       "    </tr>\n",
       "    <tr>\n",
       "      <th>2</th>\n",
       "      <td>USI Insurance Svc</td>\n",
       "      <td>Usi Insurance Services</td>\n",
       "      <td>match</td>\n",
       "    </tr>\n",
       "    <tr>\n",
       "      <th>3</th>\n",
       "      <td>New Heritage Capital, LLC</td>\n",
       "      <td>New Heritage Capital</td>\n",
       "      <td>match</td>\n",
       "    </tr>\n",
       "    <tr>\n",
       "      <th>4</th>\n",
       "      <td>Aureus</td>\n",
       "      <td>Aureus Capital</td>\n",
       "      <td>match</td>\n",
       "    </tr>\n",
       "  </tbody>\n",
       "</table>\n",
       "</div>"
      ],
      "text/plain": [
       "               reference_name                  new_name expected\n",
       "0     Ballentine Partners LLC  Ballentine Partners, LLC    match\n",
       "1  Huron Capital Partners LLC             Huron Capital    match\n",
       "2           USI Insurance Svc    Usi Insurance Services    match\n",
       "3   New Heritage Capital, LLC      New Heritage Capital    match\n",
       "4                      Aureus            Aureus Capital    match"
      ]
     },
     "execution_count": 2,
     "metadata": {},
     "output_type": "execute_result"
    }
   ],
   "source": [
    "companies = dio._load_files(\"tests/data/fuzzy_match_companies.xlsx\")\n",
    "\n",
    "companies.head(5)"
   ]
  },
  {
   "cell_type": "code",
   "execution_count": 3,
   "metadata": {},
   "outputs": [
    {
     "name": "stdout",
     "output_type": "stream",
     "text": [
      "['FuzzyMatch.fuzzy_match_pairwise', 'FuzzyMatch.score_threshold']\n",
      "['config/cleaning/clean_company_name.ini']\n",
      "['StringFormat.to_lower', 'StringFormat.trim_whitespace', 'StringFormat.strip_non_ascii', 'StringFormat.strip_punctuation', 'FuzzyMatch.remove_company_suffixes']\n"
     ]
    }
   ],
   "source": [
    "cp_fuzzy = cr.read_config(\"config/processing/fuzzy_match_company.ini\")\n",
    "\n",
    "fuzzy_fn = cr.parse_functions(cp_fuzzy)\n",
    "fuzzy_clean = cr.parse_cleaning(cp_fuzzy)\n",
    "fuzzy_clean_fn = cr.parse_functions(cr.read_config(fuzzy_clean))\n",
    "\n",
    "\n",
    "print(fuzzy_fn)\n",
    "print(fuzzy_clean)\n",
    "print(fuzzy_clean_fn)"
   ]
  },
  {
   "cell_type": "code",
   "execution_count": 4,
   "metadata": {},
   "outputs": [
    {
     "data": {
      "text/plain": [
       "['StringFormat.to_lower',\n",
       " 'StringFormat.trim_whitespace',\n",
       " 'StringFormat.strip_non_ascii',\n",
       " 'StringFormat.strip_punctuation',\n",
       " 'FuzzyMatch.remove_company_suffixes']"
      ]
     },
     "execution_count": 4,
     "metadata": {},
     "output_type": "execute_result"
    }
   ],
   "source": [
    "path = \"config/processing/fuzzy_match_company.ini\"\n",
    "\n",
    "cf.eval_functions_list(path, ['ConfigReader.read_config', 'ConfigReader.parse_cleaning', 'ConfigReader.read_config', 'ConfigReader.parse_functions'])"
   ]
  },
  {
   "cell_type": "code",
   "execution_count": 5,
   "metadata": {},
   "outputs": [
    {
     "data": {
      "text/plain": [
       "['StringFormat.to_lower',\n",
       " 'StringFormat.trim_whitespace',\n",
       " 'StringFormat.strip_non_ascii',\n",
       " 'StringFormat.strip_punctuation',\n",
       " 'FuzzyMatch.remove_company_suffixes']"
      ]
     },
     "execution_count": 5,
     "metadata": {},
     "output_type": "execute_result"
    }
   ],
   "source": [
    "cf.eval_functions_list(cp_fuzzy, ['ConfigReader.parse_cleaning', 'ConfigReader.read_config', 'ConfigReader.parse_functions'])"
   ]
  },
  {
   "cell_type": "code",
   "execution_count": 6,
   "metadata": {},
   "outputs": [
    {
     "data": {
      "text/plain": [
       "['StringFormat.to_lower',\n",
       " 'StringFormat.trim_whitespace',\n",
       " 'StringFormat.strip_non_ascii',\n",
       " 'StringFormat.strip_punctuation',\n",
       " 'FuzzyMatch.remove_company_suffixes']"
      ]
     },
     "execution_count": 6,
     "metadata": {},
     "output_type": "execute_result"
    }
   ],
   "source": [
    "path = \"config/processing/fuzzy_match_company.ini\"\n",
    "\n",
    "dio._read_cleaning_from_ini(path)"
   ]
  },
  {
   "cell_type": "code",
   "execution_count": 7,
   "metadata": {},
   "outputs": [],
   "source": [
    "cp = ConfigParser()\n",
    "emptycp = ConfigParser()\n",
    "fm = cr.read_config(\"config/processing/fuzzy_match_company.ini\")"
   ]
  },
  {
   "cell_type": "code",
   "execution_count": 8,
   "metadata": {},
   "outputs": [
    {
     "data": {
      "text/plain": [
       "[('DEFAULT', <Section: DEFAULT>)]"
      ]
     },
     "execution_count": 8,
     "metadata": {},
     "output_type": "execute_result"
    }
   ],
   "source": [
    "list(cp.items())"
   ]
  },
  {
   "cell_type": "code",
   "execution_count": 9,
   "metadata": {},
   "outputs": [
    {
     "data": {
      "text/plain": [
       "[('DEFAULT', <Section: DEFAULT>),\n",
       " ('info', <Section: info>),\n",
       " ('parameters', <Section: parameters>),\n",
       " ('control', <Section: control>)]"
      ]
     },
     "execution_count": 9,
     "metadata": {},
     "output_type": "execute_result"
    }
   ],
   "source": [
    "list(fm.items())"
   ]
  }
 ],
 "metadata": {
  "kernelspec": {
   "display_name": "Python 3",
   "language": "python",
   "name": "python3"
  },
  "language_info": {
   "codemirror_mode": {
    "name": "ipython",
    "version": 3
   },
   "file_extension": ".py",
   "mimetype": "text/x-python",
   "name": "python",
   "nbconvert_exporter": "python",
   "pygments_lexer": "ipython3",
   "version": "3.12.3"
  }
 },
 "nbformat": 4,
 "nbformat_minor": 2
}
