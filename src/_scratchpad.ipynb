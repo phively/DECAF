{
 "cells": [
  {
   "cell_type": "code",
   "execution_count": 11,
   "metadata": {},
   "outputs": [],
   "source": [
    "import ConfigReader as cr\n",
    "import DatafileIO as dio\n",
    "import pandas as pd\n",
    "\n",
    "ini_path = \"tests/config/load_pythagorean_triples_all.ini\"\n",
    "\n",
    "cp = cr.read_config(ini_path)"
   ]
  },
  {
   "cell_type": "code",
   "execution_count": 12,
   "metadata": {},
   "outputs": [
    {
     "name": "stdout",
     "output_type": "stream",
     "text": [
      "['DatafileIO.load_files_from_ini']\n",
      "tests/data/pythagorean_triples.csv\n",
      "\n",
      "\n",
      "\n",
      "1\n",
      "0\n"
     ]
    }
   ],
   "source": [
    "functions = cr.parse_functions(cp)\n",
    "file1 = cp[\"control\"][\"file1\"]\n",
    "col1 = cp[\"control\"][\"column1\"]\n",
    "file2 = cp[\"control\"][\"file2\"]\n",
    "col2 = cp[\"control\"][\"column2\"]\n",
    "\n",
    "print(functions, file1, col1, file2, col2, sep = \"\\n\")\n",
    "\n",
    "nfiles = int(file1 != \"\") + int(file2 != \"\")\n",
    "ncols = int(col1 != \"\") + int(col2 != \"\")\n",
    "\n",
    "print(nfiles, ncols, sep = \"\\n\")"
   ]
  },
  {
   "cell_type": "code",
   "execution_count": 13,
   "metadata": {},
   "outputs": [],
   "source": [
    "a = dio.load_files_from_ini(ini_path)\n",
    "b = pd.read_csv(ini_path)"
   ]
  },
  {
   "cell_type": "code",
   "execution_count": 18,
   "metadata": {},
   "outputs": [
    {
     "data": {
      "text/html": [
       "<div>\n",
       "<style scoped>\n",
       "    .dataframe tbody tr th:only-of-type {\n",
       "        vertical-align: middle;\n",
       "    }\n",
       "\n",
       "    .dataframe tbody tr th {\n",
       "        vertical-align: top;\n",
       "    }\n",
       "\n",
       "    .dataframe thead th {\n",
       "        text-align: right;\n",
       "    }\n",
       "</style>\n",
       "<table border=\"1\" class=\"dataframe\">\n",
       "  <thead>\n",
       "    <tr style=\"text-align: right;\">\n",
       "      <th></th>\n",
       "      <th>[info]</th>\n",
       "    </tr>\n",
       "  </thead>\n",
       "  <tbody>\n",
       "    <tr>\n",
       "      <th>0</th>\n",
       "      <td>description = Load pythagorean_triples.csv tes...</td>\n",
       "    </tr>\n",
       "    <tr>\n",
       "      <th>1</th>\n",
       "      <td>[control]</td>\n",
       "    </tr>\n",
       "    <tr>\n",
       "      <th>2</th>\n",
       "      <td>functions = DatafileIO.load_files_from_ini</td>\n",
       "    </tr>\n",
       "    <tr>\n",
       "      <th>3</th>\n",
       "      <td>file1 = tests/data/pythagorean_triples.csv</td>\n",
       "    </tr>\n",
       "    <tr>\n",
       "      <th>4</th>\n",
       "      <td>column1 =</td>\n",
       "    </tr>\n",
       "    <tr>\n",
       "      <th>5</th>\n",
       "      <td>file2 =</td>\n",
       "    </tr>\n",
       "    <tr>\n",
       "      <th>6</th>\n",
       "      <td>column2 =</td>\n",
       "    </tr>\n",
       "  </tbody>\n",
       "</table>\n",
       "</div>"
      ],
      "text/plain": [
       "                                              [info]\n",
       "0  description = Load pythagorean_triples.csv tes...\n",
       "1                                          [control]\n",
       "2         functions = DatafileIO.load_files_from_ini\n",
       "3         file1 = tests/data/pythagorean_triples.csv\n",
       "4                                         column1 = \n",
       "5                                           file2 = \n",
       "6                                         column2 = "
      ]
     },
     "execution_count": 18,
     "metadata": {},
     "output_type": "execute_result"
    }
   ],
   "source": [
    "a.equals(b)\n",
    "a\n",
    "b"
   ]
  },
  {
   "cell_type": "code",
   "execution_count": 33,
   "metadata": {},
   "outputs": [],
   "source": [
    "config_path = \"tests/config/\"\n",
    "\n",
    "# Return full path to test ini and test data file\n",
    "def _get_paths(ini):\n",
    "    ini_path = config_path + ini\n",
    "    cp = cr.read_config(ini_path)\n",
    "    data_path = \"src/\" + str(cp[\"control\"][\"file1\"])\n",
    "    return ini_path, data_path\n"
   ]
  },
  {
   "cell_type": "code",
   "execution_count": 34,
   "metadata": {},
   "outputs": [
    {
     "name": "stdout",
     "output_type": "stream",
     "text": [
      "tests/config/load_pythagorean_triples_all.ini\n",
      "src/tests/data/pythagorean_triples.csv\n"
     ]
    }
   ],
   "source": [
    "ini_path, data_path = _get_paths(\"load_pythagorean_triples_all.ini\")\n",
    "print(ini_path, data_path, sep = \"\\n\")"
   ]
  },
  {
   "cell_type": "code",
   "execution_count": 30,
   "metadata": {},
   "outputs": [
    {
     "data": {
      "text/plain": [
       "'src/tests/data/pythagorean_triples.csv'"
      ]
     },
     "execution_count": 30,
     "metadata": {},
     "output_type": "execute_result"
    }
   ],
   "source": [
    "data_path"
   ]
  }
 ],
 "metadata": {
  "kernelspec": {
   "display_name": "Python 3",
   "language": "python",
   "name": "python3"
  },
  "language_info": {
   "codemirror_mode": {
    "name": "ipython",
    "version": 3
   },
   "file_extension": ".py",
   "mimetype": "text/x-python",
   "name": "python",
   "nbconvert_exporter": "python",
   "pygments_lexer": "ipython3",
   "version": "3.9.13"
  }
 },
 "nbformat": 4,
 "nbformat_minor": 2
}
