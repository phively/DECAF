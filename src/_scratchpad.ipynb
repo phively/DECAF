{
 "cells": [
  {
   "cell_type": "code",
   "execution_count": 1,
   "metadata": {},
   "outputs": [],
   "source": [
    "import DatafileIO as dio\n",
    "import pandas as pd\n",
    "\n",
    "config_path = \"tests/\""
   ]
  },
  {
   "cell_type": "code",
   "execution_count": 2,
   "metadata": {},
   "outputs": [],
   "source": [
    "data_path = config_path + \"data/fuzzy_match_companies.csv\"\n",
    "xls_path = config_path + \"data/fuzzy_match_companies.xlsx\""
   ]
  },
  {
   "cell_type": "code",
   "execution_count": 3,
   "metadata": {},
   "outputs": [
    {
     "name": "stdout",
     "output_type": "stream",
     "text": [
      "0            Ballentine Partners LLC\n",
      "1         Huron Capital Partners LLC\n",
      "2                  USI Insurance Svc\n",
      "3          New Heritage Capital, LLC\n",
      "4                             Aureus\n",
      "5                    Marsh USA, Inc.\n",
      "6                Madison Capital LLC\n",
      "7          Adams Street Partners LLC\n",
      "8                Promus Bank & Trust\n",
      "9             Huron Consulting Group\n",
      "10    Comprehensive Capital Partners\n",
      "11              Andrews Banking Corp\n",
      "12               Piper Sandler & Co.\n",
      "13             Peabody Partners, LLC\n",
      "14               The Mortgage Office\n",
      "15                        John Deere\n",
      "Name: reference_name, dtype: object\n",
      "0           Ballentine Partners, LLC\n",
      "1                      Huron Capital\n",
      "2             Usi Insurance Services\n",
      "3               New Heritage Capital\n",
      "4                     Aureus Capital\n",
      "5                          Marsh Inc\n",
      "6            Madison Capital Funding\n",
      "7                 Partners, Adams St\n",
      "8                 Promus Capital LLC\n",
      "9         Huron Capital Partners LLC\n",
      "10    Cohesive Capital Planning L.P.\n",
      "11       Andrews Advisory Group, LLC\n",
      "12                     Piper Jaffray\n",
      "13             Prospect Partners LLC\n",
      "14                 L.E.K. Consulting\n",
      "15                  Caterpillar Inc.\n",
      "Name: new_name, dtype: object\n"
     ]
    }
   ],
   "source": [
    "a, b = dio._load_files(fp1 = data_path, cn1=\"reference_name\", fp2=data_path, cn2=\"new_name\")\n",
    "print(a)\n",
    "print(b)"
   ]
  },
  {
   "cell_type": "code",
   "execution_count": 5,
   "metadata": {},
   "outputs": [],
   "source": [
    "ax, bx = dio._load_files(fp1 = xls_path, cn1=\"reference_name\", fp2=data_path, cn2=\"new_name\")"
   ]
  },
  {
   "cell_type": "code",
   "execution_count": 6,
   "metadata": {},
   "outputs": [
    {
     "data": {
      "text/plain": [
       "True"
      ]
     },
     "execution_count": 6,
     "metadata": {},
     "output_type": "execute_result"
    }
   ],
   "source": [
    "a.equals(ax)"
   ]
  },
  {
   "cell_type": "code",
   "execution_count": 7,
   "metadata": {},
   "outputs": [
    {
     "data": {
      "text/plain": [
       "True"
      ]
     },
     "execution_count": 7,
     "metadata": {},
     "output_type": "execute_result"
    }
   ],
   "source": [
    "b.equals(bx)"
   ]
  }
 ],
 "metadata": {
  "kernelspec": {
   "display_name": "Python 3",
   "language": "python",
   "name": "python3"
  },
  "language_info": {
   "codemirror_mode": {
    "name": "ipython",
    "version": 3
   },
   "file_extension": ".py",
   "mimetype": "text/x-python",
   "name": "python",
   "nbconvert_exporter": "python",
   "pygments_lexer": "ipython3",
   "version": "3.12.3"
  }
 },
 "nbformat": 4,
 "nbformat_minor": 2
}
